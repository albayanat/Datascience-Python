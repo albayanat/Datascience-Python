{
 "cells": [
  {
   "cell_type": "markdown",
   "metadata": {},
   "source": [
    "## Credit Risk Classification "
   ]
  },
  {
   "cell_type": "raw",
   "metadata": {},
   "source": [
    "In this dataset, each customer is classified as high or low credit risk according to the set of features and payment history. If label is 1, the customer is in high credit risk. \n",
    "Dataset imbalance ratio is 20%.\n",
    "\n",
    "Data:\n",
    "payment_data.csv: customer’s card payment history.\n",
    "\tid: customer id\n",
    "\tOVD_t1: number of times overdue type 1\n",
    "\tOVD_t2: number of times overdue type 2\n",
    "\tOVD_t3: number of times overdue type 3\n",
    "\tOVD_sum: total overdue days\n",
    "\tpay_normal: number of times normal payment\n",
    "\tprod_code: credit product code\n",
    "\tprod_limit: credit limit of product\n",
    "\tupdate_date: account update date\n",
    "\tnew_balance: current balance of product\n",
    "\thighest_balance: highest balance in history\n",
    "\treport_date: date of recent payment\n",
    "customer_data.csv: customer’s demographic data and category attributes which have been encoded. Category features are fea_1, fea_3, fea_5, fea_6, fea_7, fea_9.\n",
    "\n",
    "Tasks:\n",
    "•\tExplore data to give insights.\n",
    "•\tBuild features from existing payment data.\n",
    "•\tBuild model to predict high risk customer \n",
    "•\tModel explanation and evaluation\n"
   ]
  },
  {
   "cell_type": "markdown",
   "metadata": {},
   "source": [
    "## Synopsis \n",
    "\n",
    "For this Data analysis, we wanto to classify customers as low credit risk (class 0) or as high credit risk (class 1).\n",
    "We will proceed in steps:\n",
    "    - Step 1: We will start with data exploration and cleansing:\n",
    "            In this steps we will be handling missing values\n",
    "    - Step 2: We will build features and target variables\n",
    "        We will build the train and test set and propose a method to deal with imbalanced class\n",
    "    - Step 3: We will explore several models and evaulate their performance\n",
    "        We will look at 3 models:\n",
    "            1. Decision Tree Classifier\n",
    "            2. Random Forest Classifier \n",
    "            3. Gradient Boosting Tree Classifier\n",
    "        We will try to find the best set of parameters with a f1-driven study, using GridSearchCV\n",
    "    - Step 4: We will compare the model and propose several directions to progress with this analysis \n",
    " \n",
    "###  Note on performance:\n",
    "One main driver in our model evalutation will be to find the right balance between recall and precision. \n",
    "Indeed, we want to control the recall to ensure our model does not classify as high risk, customers who are low risk and we also want to make sure to identify all customers with high credit risk profile. In other words, we want to find the right balance between customer satisfaction and risk for the bank. "
   ]
  },
  {
   "cell_type": "code",
   "execution_count": 3,
   "metadata": {},
   "outputs": [],
   "source": [
    "import numpy as np\n",
    "import pandas as pd\n",
    "from sklearn.model_selection import train_test_split\n",
    "from sklearn.svm import SVC\n",
    "from sklearn.tree import DecisionTreeClassifier\n",
    "from sklearn.dummy import DummyClassifier\n",
    "from sklearn.metrics import accuracy_score, recall_score, precision_score, f1_score\n",
    "from sklearn.model_selection import GridSearchCV\n",
    "from sklearn.preprocessing import LabelEncoder\n",
    "from sklearn.ensemble import RandomForestClassifier, GradientBoostingClassifier\n",
    "from imblearn.over_sampling import SMOTE"
   ]
  },
  {
   "cell_type": "markdown",
   "metadata": {},
   "source": [
    "## Step 1: Data exploration "
   ]
  },
  {
   "cell_type": "code",
   "execution_count": 4,
   "metadata": {},
   "outputs": [
    {
     "data": {
      "text/html": [
       "<div>\n",
       "<style scoped>\n",
       "    .dataframe tbody tr th:only-of-type {\n",
       "        vertical-align: middle;\n",
       "    }\n",
       "\n",
       "    .dataframe tbody tr th {\n",
       "        vertical-align: top;\n",
       "    }\n",
       "\n",
       "    .dataframe thead th {\n",
       "        text-align: right;\n",
       "    }\n",
       "</style>\n",
       "<table border=\"1\" class=\"dataframe\">\n",
       "  <thead>\n",
       "    <tr style=\"text-align: right;\">\n",
       "      <th></th>\n",
       "      <th>label</th>\n",
       "      <th>id</th>\n",
       "      <th>fea_1</th>\n",
       "      <th>fea_2</th>\n",
       "      <th>fea_3</th>\n",
       "      <th>fea_4</th>\n",
       "      <th>fea_5</th>\n",
       "      <th>fea_6</th>\n",
       "      <th>fea_7</th>\n",
       "      <th>fea_8</th>\n",
       "      <th>...</th>\n",
       "      <th>OVD_t2</th>\n",
       "      <th>OVD_t3</th>\n",
       "      <th>OVD_sum</th>\n",
       "      <th>pay_normal</th>\n",
       "      <th>prod_code</th>\n",
       "      <th>prod_limit</th>\n",
       "      <th>update_date</th>\n",
       "      <th>new_balance</th>\n",
       "      <th>highest_balance</th>\n",
       "      <th>report_date</th>\n",
       "    </tr>\n",
       "  </thead>\n",
       "  <tbody>\n",
       "    <tr>\n",
       "      <th>1175</th>\n",
       "      <td>0</td>\n",
       "      <td>58992868</td>\n",
       "      <td>7</td>\n",
       "      <td>1316.0</td>\n",
       "      <td>1</td>\n",
       "      <td>117000.0</td>\n",
       "      <td>2</td>\n",
       "      <td>11</td>\n",
       "      <td>-1</td>\n",
       "      <td>110</td>\n",
       "      <td>...</td>\n",
       "      <td>0</td>\n",
       "      <td>0</td>\n",
       "      <td>0</td>\n",
       "      <td>1</td>\n",
       "      <td>6</td>\n",
       "      <td>NaN</td>\n",
       "      <td>2015-02-14</td>\n",
       "      <td>0.0</td>\n",
       "      <td>30500.0</td>\n",
       "      <td>2015-10-19</td>\n",
       "    </tr>\n",
       "    <tr>\n",
       "      <th>7356</th>\n",
       "      <td>0</td>\n",
       "      <td>58989774</td>\n",
       "      <td>7</td>\n",
       "      <td>1281.5</td>\n",
       "      <td>1</td>\n",
       "      <td>80000.0</td>\n",
       "      <td>2</td>\n",
       "      <td>12</td>\n",
       "      <td>-1</td>\n",
       "      <td>111</td>\n",
       "      <td>...</td>\n",
       "      <td>0</td>\n",
       "      <td>0</td>\n",
       "      <td>0</td>\n",
       "      <td>36</td>\n",
       "      <td>1</td>\n",
       "      <td>NaN</td>\n",
       "      <td>2009-02-08</td>\n",
       "      <td>0.0</td>\n",
       "      <td>250500.0</td>\n",
       "      <td>2013-01-21</td>\n",
       "    </tr>\n",
       "    <tr>\n",
       "      <th>887</th>\n",
       "      <td>0</td>\n",
       "      <td>58986215</td>\n",
       "      <td>5</td>\n",
       "      <td>1250.0</td>\n",
       "      <td>1</td>\n",
       "      <td>167000.0</td>\n",
       "      <td>2</td>\n",
       "      <td>15</td>\n",
       "      <td>-1</td>\n",
       "      <td>90</td>\n",
       "      <td>...</td>\n",
       "      <td>0</td>\n",
       "      <td>0</td>\n",
       "      <td>0</td>\n",
       "      <td>12</td>\n",
       "      <td>6</td>\n",
       "      <td>NaN</td>\n",
       "      <td>2014-11-05</td>\n",
       "      <td>0.0</td>\n",
       "      <td>14100.0</td>\n",
       "      <td>2015-07-24</td>\n",
       "    </tr>\n",
       "    <tr>\n",
       "      <th>2021</th>\n",
       "      <td>0</td>\n",
       "      <td>58983850</td>\n",
       "      <td>5</td>\n",
       "      <td>1221.5</td>\n",
       "      <td>3</td>\n",
       "      <td>97000.0</td>\n",
       "      <td>2</td>\n",
       "      <td>15</td>\n",
       "      <td>9</td>\n",
       "      <td>109</td>\n",
       "      <td>...</td>\n",
       "      <td>0</td>\n",
       "      <td>0</td>\n",
       "      <td>0</td>\n",
       "      <td>1</td>\n",
       "      <td>10</td>\n",
       "      <td>72600.0</td>\n",
       "      <td>2015-10-02</td>\n",
       "      <td>1518.0</td>\n",
       "      <td>1764.0</td>\n",
       "      <td>NaT</td>\n",
       "    </tr>\n",
       "    <tr>\n",
       "      <th>251</th>\n",
       "      <td>0</td>\n",
       "      <td>58998166</td>\n",
       "      <td>4</td>\n",
       "      <td>1355.0</td>\n",
       "      <td>3</td>\n",
       "      <td>177000.0</td>\n",
       "      <td>2</td>\n",
       "      <td>8</td>\n",
       "      <td>5</td>\n",
       "      <td>87</td>\n",
       "      <td>...</td>\n",
       "      <td>0</td>\n",
       "      <td>0</td>\n",
       "      <td>0</td>\n",
       "      <td>1</td>\n",
       "      <td>1</td>\n",
       "      <td>NaN</td>\n",
       "      <td>2007-06-11</td>\n",
       "      <td>0.0</td>\n",
       "      <td>200500.0</td>\n",
       "      <td>2010-05-24</td>\n",
       "    </tr>\n",
       "  </tbody>\n",
       "</table>\n",
       "<p>5 rows × 24 columns</p>\n",
       "</div>"
      ],
      "text/plain": [
       "      label        id  fea_1   fea_2  fea_3     fea_4  fea_5  fea_6  fea_7  \\\n",
       "1175      0  58992868      7  1316.0      1  117000.0      2     11     -1   \n",
       "7356      0  58989774      7  1281.5      1   80000.0      2     12     -1   \n",
       "887       0  58986215      5  1250.0      1  167000.0      2     15     -1   \n",
       "2021      0  58983850      5  1221.5      3   97000.0      2     15      9   \n",
       "251       0  58998166      4  1355.0      3  177000.0      2      8      5   \n",
       "\n",
       "      fea_8  ...  OVD_t2  OVD_t3  OVD_sum  pay_normal  prod_code  prod_limit  \\\n",
       "1175    110  ...       0       0        0           1          6         NaN   \n",
       "7356    111  ...       0       0        0          36          1         NaN   \n",
       "887      90  ...       0       0        0          12          6         NaN   \n",
       "2021    109  ...       0       0        0           1         10     72600.0   \n",
       "251      87  ...       0       0        0           1          1         NaN   \n",
       "\n",
       "      update_date  new_balance  highest_balance  report_date  \n",
       "1175   2015-02-14          0.0          30500.0   2015-10-19  \n",
       "7356   2009-02-08          0.0         250500.0   2013-01-21  \n",
       "887    2014-11-05          0.0          14100.0   2015-07-24  \n",
       "2021   2015-10-02       1518.0           1764.0          NaT  \n",
       "251    2007-06-11          0.0         200500.0   2010-05-24  \n",
       "\n",
       "[5 rows x 24 columns]"
      ]
     },
     "execution_count": 4,
     "metadata": {},
     "output_type": "execute_result"
    }
   ],
   "source": [
    "#loading the data \n",
    "parse_dates = ['update_date', 'report_date']\n",
    "df_cust = pd.read_csv('customer_data_ratio20.csv')\n",
    "df_payment = pd.read_csv('payment_data_ratio20.csv', parse_dates=parse_dates)\n",
    "#We map each payment instance to the customer demographic by merging on 'id'\n",
    "df = pd.merge(df_cust, df_payment, how = 'right', left_on='id', right_on='id')\n",
    "\n",
    "df.sample(5)"
   ]
  },
  {
   "cell_type": "code",
   "execution_count": 5,
   "metadata": {},
   "outputs": [
    {
     "data": {
      "text/plain": [
       "(8250, 24)"
      ]
     },
     "execution_count": 5,
     "metadata": {},
     "output_type": "execute_result"
    }
   ],
   "source": [
    "df.shape"
   ]
  },
  {
   "cell_type": "code",
   "execution_count": 6,
   "metadata": {},
   "outputs": [
    {
     "name": "stdout",
     "output_type": "stream",
     "text": [
      "<class 'pandas.core.frame.DataFrame'>\n",
      "Int64Index: 8250 entries, 0 to 8249\n",
      "Data columns (total 24 columns):\n",
      "label              8250 non-null int64\n",
      "id                 8250 non-null int64\n",
      "fea_1              8250 non-null int64\n",
      "fea_2              7222 non-null float64\n",
      "fea_3              8250 non-null int64\n",
      "fea_4              8250 non-null float64\n",
      "fea_5              8250 non-null int64\n",
      "fea_6              8250 non-null int64\n",
      "fea_7              8250 non-null int64\n",
      "fea_8              8250 non-null int64\n",
      "fea_9              8250 non-null int64\n",
      "fea_10             8250 non-null int64\n",
      "fea_11             8250 non-null float64\n",
      "OVD_t1             8250 non-null int64\n",
      "OVD_t2             8250 non-null int64\n",
      "OVD_t3             8250 non-null int64\n",
      "OVD_sum            8250 non-null int64\n",
      "pay_normal         8250 non-null int64\n",
      "prod_code          8250 non-null int64\n",
      "prod_limit         2132 non-null float64\n",
      "update_date        8224 non-null datetime64[ns]\n",
      "new_balance        8250 non-null float64\n",
      "highest_balance    7841 non-null float64\n",
      "report_date        7136 non-null datetime64[ns]\n",
      "dtypes: datetime64[ns](2), float64(6), int64(16)\n",
      "memory usage: 1.6 MB\n"
     ]
    }
   ],
   "source": [
    "df.info()"
   ]
  },
  {
   "cell_type": "code",
   "execution_count": 7,
   "metadata": {},
   "outputs": [
    {
     "data": {
      "text/html": [
       "<div>\n",
       "<style scoped>\n",
       "    .dataframe tbody tr th:only-of-type {\n",
       "        vertical-align: middle;\n",
       "    }\n",
       "\n",
       "    .dataframe tbody tr th {\n",
       "        vertical-align: top;\n",
       "    }\n",
       "\n",
       "    .dataframe thead th {\n",
       "        text-align: right;\n",
       "    }\n",
       "</style>\n",
       "<table border=\"1\" class=\"dataframe\">\n",
       "  <thead>\n",
       "    <tr style=\"text-align: right;\">\n",
       "      <th></th>\n",
       "      <th>count</th>\n",
       "      <th>mean</th>\n",
       "      <th>std</th>\n",
       "      <th>min</th>\n",
       "      <th>25%</th>\n",
       "      <th>50%</th>\n",
       "      <th>75%</th>\n",
       "      <th>max</th>\n",
       "    </tr>\n",
       "  </thead>\n",
       "  <tbody>\n",
       "    <tr>\n",
       "      <th>label</th>\n",
       "      <td>8250.0</td>\n",
       "      <td>1.681212e-01</td>\n",
       "      <td>3.739966e-01</td>\n",
       "      <td>0.0</td>\n",
       "      <td>0.0</td>\n",
       "      <td>0.000000e+00</td>\n",
       "      <td>0.000000e+00</td>\n",
       "      <td>1.000000e+00</td>\n",
       "    </tr>\n",
       "    <tr>\n",
       "      <th>id</th>\n",
       "      <td>8250.0</td>\n",
       "      <td>5.782173e+07</td>\n",
       "      <td>1.822724e+06</td>\n",
       "      <td>54982353.0</td>\n",
       "      <td>54990497.0</td>\n",
       "      <td>5.898905e+07</td>\n",
       "      <td>5.899655e+07</td>\n",
       "      <td>5.900624e+07</td>\n",
       "    </tr>\n",
       "    <tr>\n",
       "      <th>fea_1</th>\n",
       "      <td>8250.0</td>\n",
       "      <td>5.522667e+00</td>\n",
       "      <td>1.388358e+00</td>\n",
       "      <td>1.0</td>\n",
       "      <td>4.0</td>\n",
       "      <td>5.000000e+00</td>\n",
       "      <td>7.000000e+00</td>\n",
       "      <td>7.000000e+00</td>\n",
       "    </tr>\n",
       "    <tr>\n",
       "      <th>fea_2</th>\n",
       "      <td>7222.0</td>\n",
       "      <td>1.286157e+03</td>\n",
       "      <td>5.200243e+01</td>\n",
       "      <td>1116.5</td>\n",
       "      <td>1248.5</td>\n",
       "      <td>1.283000e+03</td>\n",
       "      <td>1.317500e+03</td>\n",
       "      <td>1.481000e+03</td>\n",
       "    </tr>\n",
       "    <tr>\n",
       "      <th>fea_3</th>\n",
       "      <td>8250.0</td>\n",
       "      <td>2.319636e+00</td>\n",
       "      <td>8.874141e-01</td>\n",
       "      <td>1.0</td>\n",
       "      <td>1.0</td>\n",
       "      <td>3.000000e+00</td>\n",
       "      <td>3.000000e+00</td>\n",
       "      <td>3.000000e+00</td>\n",
       "    </tr>\n",
       "    <tr>\n",
       "      <th>fea_4</th>\n",
       "      <td>8250.0</td>\n",
       "      <td>1.386712e+05</td>\n",
       "      <td>1.081565e+05</td>\n",
       "      <td>15000.0</td>\n",
       "      <td>77000.0</td>\n",
       "      <td>1.110000e+05</td>\n",
       "      <td>1.510000e+05</td>\n",
       "      <td>1.200000e+06</td>\n",
       "    </tr>\n",
       "    <tr>\n",
       "      <th>fea_5</th>\n",
       "      <td>8250.0</td>\n",
       "      <td>1.940848e+00</td>\n",
       "      <td>2.359224e-01</td>\n",
       "      <td>1.0</td>\n",
       "      <td>2.0</td>\n",
       "      <td>2.000000e+00</td>\n",
       "      <td>2.000000e+00</td>\n",
       "      <td>2.000000e+00</td>\n",
       "    </tr>\n",
       "    <tr>\n",
       "      <th>fea_6</th>\n",
       "      <td>8250.0</td>\n",
       "      <td>1.101394e+01</td>\n",
       "      <td>2.694611e+00</td>\n",
       "      <td>3.0</td>\n",
       "      <td>8.0</td>\n",
       "      <td>1.100000e+01</td>\n",
       "      <td>1.200000e+01</td>\n",
       "      <td>1.600000e+01</td>\n",
       "    </tr>\n",
       "    <tr>\n",
       "      <th>fea_7</th>\n",
       "      <td>8250.0</td>\n",
       "      <td>4.881091e+00</td>\n",
       "      <td>3.031902e+00</td>\n",
       "      <td>-1.0</td>\n",
       "      <td>5.0</td>\n",
       "      <td>5.000000e+00</td>\n",
       "      <td>5.000000e+00</td>\n",
       "      <td>1.000000e+01</td>\n",
       "    </tr>\n",
       "    <tr>\n",
       "      <th>fea_8</th>\n",
       "      <td>8250.0</td>\n",
       "      <td>1.000263e+02</td>\n",
       "      <td>1.254008e+01</td>\n",
       "      <td>64.0</td>\n",
       "      <td>90.0</td>\n",
       "      <td>1.050000e+02</td>\n",
       "      <td>1.100000e+02</td>\n",
       "      <td>1.150000e+02</td>\n",
       "    </tr>\n",
       "    <tr>\n",
       "      <th>fea_9</th>\n",
       "      <td>8250.0</td>\n",
       "      <td>4.245333e+00</td>\n",
       "      <td>8.766475e-01</td>\n",
       "      <td>1.0</td>\n",
       "      <td>3.0</td>\n",
       "      <td>5.000000e+00</td>\n",
       "      <td>5.000000e+00</td>\n",
       "      <td>5.000000e+00</td>\n",
       "    </tr>\n",
       "    <tr>\n",
       "      <th>fea_10</th>\n",
       "      <td>8250.0</td>\n",
       "      <td>1.885754e+05</td>\n",
       "      <td>1.670309e+05</td>\n",
       "      <td>60000.0</td>\n",
       "      <td>60047.0</td>\n",
       "      <td>7.200000e+04</td>\n",
       "      <td>3.500200e+05</td>\n",
       "      <td>6.500700e+05</td>\n",
       "    </tr>\n",
       "    <tr>\n",
       "      <th>fea_11</th>\n",
       "      <td>8250.0</td>\n",
       "      <td>1.530307e+02</td>\n",
       "      <td>1.220825e+02</td>\n",
       "      <td>1.0</td>\n",
       "      <td>1.0</td>\n",
       "      <td>1.847241e+02</td>\n",
       "      <td>2.202272e+02</td>\n",
       "      <td>7.071068e+02</td>\n",
       "    </tr>\n",
       "    <tr>\n",
       "      <th>OVD_t1</th>\n",
       "      <td>8250.0</td>\n",
       "      <td>2.490909e-01</td>\n",
       "      <td>1.250197e+00</td>\n",
       "      <td>0.0</td>\n",
       "      <td>0.0</td>\n",
       "      <td>0.000000e+00</td>\n",
       "      <td>0.000000e+00</td>\n",
       "      <td>3.400000e+01</td>\n",
       "    </tr>\n",
       "    <tr>\n",
       "      <th>OVD_t2</th>\n",
       "      <td>8250.0</td>\n",
       "      <td>1.271515e-01</td>\n",
       "      <td>8.600464e-01</td>\n",
       "      <td>0.0</td>\n",
       "      <td>0.0</td>\n",
       "      <td>0.000000e+00</td>\n",
       "      <td>0.000000e+00</td>\n",
       "      <td>3.400000e+01</td>\n",
       "    </tr>\n",
       "    <tr>\n",
       "      <th>OVD_t3</th>\n",
       "      <td>8250.0</td>\n",
       "      <td>3.692121e-01</td>\n",
       "      <td>2.900320e+00</td>\n",
       "      <td>0.0</td>\n",
       "      <td>0.0</td>\n",
       "      <td>0.000000e+00</td>\n",
       "      <td>0.000000e+00</td>\n",
       "      <td>3.500000e+01</td>\n",
       "    </tr>\n",
       "    <tr>\n",
       "      <th>OVD_sum</th>\n",
       "      <td>8250.0</td>\n",
       "      <td>1.876817e+02</td>\n",
       "      <td>1.804233e+03</td>\n",
       "      <td>0.0</td>\n",
       "      <td>0.0</td>\n",
       "      <td>0.000000e+00</td>\n",
       "      <td>0.000000e+00</td>\n",
       "      <td>3.150000e+04</td>\n",
       "    </tr>\n",
       "    <tr>\n",
       "      <th>pay_normal</th>\n",
       "      <td>8250.0</td>\n",
       "      <td>1.452667e+01</td>\n",
       "      <td>1.205363e+01</td>\n",
       "      <td>0.0</td>\n",
       "      <td>4.0</td>\n",
       "      <td>1.100000e+01</td>\n",
       "      <td>2.500000e+01</td>\n",
       "      <td>3.600000e+01</td>\n",
       "    </tr>\n",
       "    <tr>\n",
       "      <th>prod_code</th>\n",
       "      <td>8250.0</td>\n",
       "      <td>8.232000e+00</td>\n",
       "      <td>3.533055e+00</td>\n",
       "      <td>0.0</td>\n",
       "      <td>6.0</td>\n",
       "      <td>1.000000e+01</td>\n",
       "      <td>1.000000e+01</td>\n",
       "      <td>2.700000e+01</td>\n",
       "    </tr>\n",
       "    <tr>\n",
       "      <th>prod_limit</th>\n",
       "      <td>2132.0</td>\n",
       "      <td>8.578970e+04</td>\n",
       "      <td>7.434583e+04</td>\n",
       "      <td>1.1</td>\n",
       "      <td>37400.0</td>\n",
       "      <td>6.820000e+04</td>\n",
       "      <td>1.122000e+05</td>\n",
       "      <td>6.600000e+05</td>\n",
       "    </tr>\n",
       "    <tr>\n",
       "      <th>new_balance</th>\n",
       "      <td>8250.0</td>\n",
       "      <td>1.054042e+05</td>\n",
       "      <td>1.887704e+06</td>\n",
       "      <td>-40303.2</td>\n",
       "      <td>0.0</td>\n",
       "      <td>0.000000e+00</td>\n",
       "      <td>2.494800e+04</td>\n",
       "      <td>1.632120e+08</td>\n",
       "    </tr>\n",
       "    <tr>\n",
       "      <th>highest_balance</th>\n",
       "      <td>7841.0</td>\n",
       "      <td>2.192027e+05</td>\n",
       "      <td>2.814536e+06</td>\n",
       "      <td>501.0</td>\n",
       "      <td>23453.0</td>\n",
       "      <td>4.404700e+04</td>\n",
       "      <td>1.005000e+05</td>\n",
       "      <td>1.800005e+08</td>\n",
       "    </tr>\n",
       "  </tbody>\n",
       "</table>\n",
       "</div>"
      ],
      "text/plain": [
       "                  count          mean           std         min         25%  \\\n",
       "label            8250.0  1.681212e-01  3.739966e-01         0.0         0.0   \n",
       "id               8250.0  5.782173e+07  1.822724e+06  54982353.0  54990497.0   \n",
       "fea_1            8250.0  5.522667e+00  1.388358e+00         1.0         4.0   \n",
       "fea_2            7222.0  1.286157e+03  5.200243e+01      1116.5      1248.5   \n",
       "fea_3            8250.0  2.319636e+00  8.874141e-01         1.0         1.0   \n",
       "fea_4            8250.0  1.386712e+05  1.081565e+05     15000.0     77000.0   \n",
       "fea_5            8250.0  1.940848e+00  2.359224e-01         1.0         2.0   \n",
       "fea_6            8250.0  1.101394e+01  2.694611e+00         3.0         8.0   \n",
       "fea_7            8250.0  4.881091e+00  3.031902e+00        -1.0         5.0   \n",
       "fea_8            8250.0  1.000263e+02  1.254008e+01        64.0        90.0   \n",
       "fea_9            8250.0  4.245333e+00  8.766475e-01         1.0         3.0   \n",
       "fea_10           8250.0  1.885754e+05  1.670309e+05     60000.0     60047.0   \n",
       "fea_11           8250.0  1.530307e+02  1.220825e+02         1.0         1.0   \n",
       "OVD_t1           8250.0  2.490909e-01  1.250197e+00         0.0         0.0   \n",
       "OVD_t2           8250.0  1.271515e-01  8.600464e-01         0.0         0.0   \n",
       "OVD_t3           8250.0  3.692121e-01  2.900320e+00         0.0         0.0   \n",
       "OVD_sum          8250.0  1.876817e+02  1.804233e+03         0.0         0.0   \n",
       "pay_normal       8250.0  1.452667e+01  1.205363e+01         0.0         4.0   \n",
       "prod_code        8250.0  8.232000e+00  3.533055e+00         0.0         6.0   \n",
       "prod_limit       2132.0  8.578970e+04  7.434583e+04         1.1     37400.0   \n",
       "new_balance      8250.0  1.054042e+05  1.887704e+06    -40303.2         0.0   \n",
       "highest_balance  7841.0  2.192027e+05  2.814536e+06       501.0     23453.0   \n",
       "\n",
       "                          50%           75%           max  \n",
       "label            0.000000e+00  0.000000e+00  1.000000e+00  \n",
       "id               5.898905e+07  5.899655e+07  5.900624e+07  \n",
       "fea_1            5.000000e+00  7.000000e+00  7.000000e+00  \n",
       "fea_2            1.283000e+03  1.317500e+03  1.481000e+03  \n",
       "fea_3            3.000000e+00  3.000000e+00  3.000000e+00  \n",
       "fea_4            1.110000e+05  1.510000e+05  1.200000e+06  \n",
       "fea_5            2.000000e+00  2.000000e+00  2.000000e+00  \n",
       "fea_6            1.100000e+01  1.200000e+01  1.600000e+01  \n",
       "fea_7            5.000000e+00  5.000000e+00  1.000000e+01  \n",
       "fea_8            1.050000e+02  1.100000e+02  1.150000e+02  \n",
       "fea_9            5.000000e+00  5.000000e+00  5.000000e+00  \n",
       "fea_10           7.200000e+04  3.500200e+05  6.500700e+05  \n",
       "fea_11           1.847241e+02  2.202272e+02  7.071068e+02  \n",
       "OVD_t1           0.000000e+00  0.000000e+00  3.400000e+01  \n",
       "OVD_t2           0.000000e+00  0.000000e+00  3.400000e+01  \n",
       "OVD_t3           0.000000e+00  0.000000e+00  3.500000e+01  \n",
       "OVD_sum          0.000000e+00  0.000000e+00  3.150000e+04  \n",
       "pay_normal       1.100000e+01  2.500000e+01  3.600000e+01  \n",
       "prod_code        1.000000e+01  1.000000e+01  2.700000e+01  \n",
       "prod_limit       6.820000e+04  1.122000e+05  6.600000e+05  \n",
       "new_balance      0.000000e+00  2.494800e+04  1.632120e+08  \n",
       "highest_balance  4.404700e+04  1.005000e+05  1.800005e+08  "
      ]
     },
     "execution_count": 7,
     "metadata": {},
     "output_type": "execute_result"
    }
   ],
   "source": [
    "df.describe().transpose()"
   ]
  },
  {
   "cell_type": "markdown",
   "metadata": {},
   "source": [
    "### Missing values - Data cleaning \n",
    "1. Some dates are missing for 'report_date' and 'update_date'\n",
    "     We will fill the missing values from each column using the other column\n",
    "2. hightest_balance also has a number of missing values that we will fill with 'new_balance' \n",
    "3. fea_2 missing values will be replaced by the mean of the column \n",
    "4. missing values for prod_limit will be replaced by 0 (this could mean that 0 credit limit is set) "
   ]
  },
  {
   "cell_type": "code",
   "execution_count": 9,
   "metadata": {},
   "outputs": [],
   "source": [
    "df['report_date']= df['report_date'].fillna(df['update_date'])\n",
    "df['update_date']= df['report_date'].fillna(df['update_date'])\n",
    "df['highest_balance']= df['highest_balance'].fillna(df['new_balance'])\n",
    "df['fea_2']= df['fea_2'].fillna(df['fea_2'].mean())\n",
    "df['prod_limit']= df['prod_limit'].fillna(0)"
   ]
  },
  {
   "cell_type": "code",
   "execution_count": 10,
   "metadata": {},
   "outputs": [
    {
     "name": "stdout",
     "output_type": "stream",
     "text": [
      "<class 'pandas.core.frame.DataFrame'>\n",
      "Int64Index: 8250 entries, 0 to 8249\n",
      "Data columns (total 24 columns):\n",
      "label              8250 non-null int64\n",
      "id                 8250 non-null int64\n",
      "fea_1              8250 non-null int64\n",
      "fea_2              8250 non-null float64\n",
      "fea_3              8250 non-null int64\n",
      "fea_4              8250 non-null float64\n",
      "fea_5              8250 non-null int64\n",
      "fea_6              8250 non-null int64\n",
      "fea_7              8250 non-null int64\n",
      "fea_8              8250 non-null int64\n",
      "fea_9              8250 non-null int64\n",
      "fea_10             8250 non-null int64\n",
      "fea_11             8250 non-null float64\n",
      "OVD_t1             8250 non-null int64\n",
      "OVD_t2             8250 non-null int64\n",
      "OVD_t3             8250 non-null int64\n",
      "OVD_sum            8250 non-null int64\n",
      "pay_normal         8250 non-null int64\n",
      "prod_code          8250 non-null int64\n",
      "prod_limit         8250 non-null float64\n",
      "update_date        8226 non-null datetime64[ns]\n",
      "new_balance        8250 non-null float64\n",
      "highest_balance    8250 non-null float64\n",
      "report_date        8226 non-null datetime64[ns]\n",
      "dtypes: datetime64[ns](2), float64(6), int64(16)\n",
      "memory usage: 1.6 MB\n"
     ]
    }
   ],
   "source": [
    "df.info()"
   ]
  },
  {
   "cell_type": "markdown",
   "metadata": {},
   "source": [
    "We still have about 24 rows with missing values for report_date, we will remove these rows "
   ]
  },
  {
   "cell_type": "code",
   "execution_count": 11,
   "metadata": {},
   "outputs": [
    {
     "name": "stdout",
     "output_type": "stream",
     "text": [
      "<class 'pandas.core.frame.DataFrame'>\n",
      "Int64Index: 8226 entries, 0 to 8249\n",
      "Data columns (total 24 columns):\n",
      "label              8226 non-null int64\n",
      "id                 8226 non-null int64\n",
      "fea_1              8226 non-null int64\n",
      "fea_2              8226 non-null float64\n",
      "fea_3              8226 non-null int64\n",
      "fea_4              8226 non-null float64\n",
      "fea_5              8226 non-null int64\n",
      "fea_6              8226 non-null int64\n",
      "fea_7              8226 non-null int64\n",
      "fea_8              8226 non-null int64\n",
      "fea_9              8226 non-null int64\n",
      "fea_10             8226 non-null int64\n",
      "fea_11             8226 non-null float64\n",
      "OVD_t1             8226 non-null int64\n",
      "OVD_t2             8226 non-null int64\n",
      "OVD_t3             8226 non-null int64\n",
      "OVD_sum            8226 non-null int64\n",
      "pay_normal         8226 non-null int64\n",
      "prod_code          8226 non-null int64\n",
      "prod_limit         8226 non-null float64\n",
      "update_date        8226 non-null datetime64[ns]\n",
      "new_balance        8226 non-null float64\n",
      "highest_balance    8226 non-null float64\n",
      "report_date        8226 non-null datetime64[ns]\n",
      "dtypes: datetime64[ns](2), float64(6), int64(16)\n",
      "memory usage: 1.6 MB\n"
     ]
    }
   ],
   "source": [
    "df = df.dropna(axis=0)\n",
    "df.info()"
   ]
  },
  {
   "cell_type": "code",
   "execution_count": 12,
   "metadata": {},
   "outputs": [
    {
     "data": {
      "text/plain": [
       "(8226, 24)"
      ]
     },
     "execution_count": 12,
     "metadata": {},
     "output_type": "execute_result"
    }
   ],
   "source": [
    "df.shape"
   ]
  },
  {
   "cell_type": "markdown",
   "metadata": {},
   "source": [
    "We will work with 8226 instances"
   ]
  },
  {
   "cell_type": "markdown",
   "metadata": {},
   "source": [
    "## Step 2: Building features \n",
    "\n",
    "The data will be separated into:\n",
    "    - our target, the column 'label' that has 2 classes: 0 for low risk and 1 for high risk \n",
    "    - features, the other columns of df"
   ]
  },
  {
   "cell_type": "code",
   "execution_count": 13,
   "metadata": {},
   "outputs": [
    {
     "data": {
      "text/plain": [
       "array([0.83187454, 0.16812546])"
      ]
     },
     "execution_count": 13,
     "metadata": {},
     "output_type": "execute_result"
    }
   ],
   "source": [
    "y = df['label']\n",
    "\n",
    "class_ratio = np.bincount(y)/len(y)\n",
    "class_ratio"
   ]
  },
  {
   "cell_type": "markdown",
   "metadata": {},
   "source": [
    "We can see the class are imbalanced with 17% of high risk and 83% of low risk.\n",
    " \n",
    "We will be using SMOTE to 'rebalance' the training set "
   ]
  },
  {
   "cell_type": "code",
   "execution_count": 15,
   "metadata": {},
   "outputs": [],
   "source": [
    "X = df.drop(axis=1, columns = 'label')\n",
    "\n",
    "#We will use 'update_date' and 'report_date' as categorical  variables in the model\n",
    "\n",
    "encoder = LabelEncoder()\n",
    "X['update_date'] =  encoder.fit_transform(X['update_date'])\n",
    "X['report_date'] =  encoder.fit_transform(X['report_date'])"
   ]
  },
  {
   "cell_type": "code",
   "execution_count": 16,
   "metadata": {},
   "outputs": [],
   "source": [
    "X_train, X_test, y_train, y_test =  train_test_split(X,y)"
   ]
  },
  {
   "cell_type": "markdown",
   "metadata": {},
   "source": [
    "We use SMOTE to build a balanced training set"
   ]
  },
  {
   "cell_type": "code",
   "execution_count": 20,
   "metadata": {},
   "outputs": [
    {
     "data": {
      "text/plain": [
       "array([0.5, 0.5])"
      ]
     },
     "execution_count": 20,
     "metadata": {},
     "output_type": "execute_result"
    }
   ],
   "source": [
    "sm = SMOTE(random_state = 0, ratio = 1)\n",
    "X_SMOTE, y_SMOTE = sm.fit_sample(X_train, y_train)\n",
    "ratio_y_SMOTE = np.bincount(y_SMOTE) /len(y_SMOTE)\n",
    "ratio_y_SMOTE"
   ]
  },
  {
   "cell_type": "markdown",
   "metadata": {},
   "source": [
    "The training set is well balanced now, and we will use X_SMOTE and y_SMOTE to fit the models."
   ]
  },
  {
   "cell_type": "markdown",
   "metadata": {},
   "source": [
    "##  Step 3: Building model \n",
    "\n",
    "We will be exploring 3 models:\n",
    "    1. Decisition Tree Classifier\n",
    "    2. Random Forest Classier\n",
    "    3. Gradient Boosting Classifier\n",
    "   \n",
    "For each of these models, we will use GridSearchCV to search for the best paramaters to outperform the F1 score.\n",
    "This metric will enable to control both recall and precision.\n",
    "We want our model:\n",
    "    1. to obtain good recall to minimise the risk of classifing\n",
    "        clients as high risk when they are not (customer satisfaction) \n",
    "    2. to obtain a good precision to minimise the risk of classifing \n",
    "        clients as low risk when they are high risk (bank protection)"
   ]
  },
  {
   "cell_type": "markdown",
   "metadata": {},
   "source": [
    "### Decision Tree Classifier "
   ]
  },
  {
   "cell_type": "markdown",
   "metadata": {},
   "source": [
    "#### Decision Tree Classififier with max_depth = 10"
   ]
  },
  {
   "cell_type": "code",
   "execution_count": 22,
   "metadata": {},
   "outputs": [
    {
     "data": {
      "text/plain": [
       "0.893048128342246"
      ]
     },
     "execution_count": 22,
     "metadata": {},
     "output_type": "execute_result"
    }
   ],
   "source": [
    "dt = DecisionTreeClassifier(max_depth=10, random_state=0).fit(X_SMOTE, y_SMOTE)\n",
    "accuracy_score(y_test, dt.predict(X_test))"
   ]
  },
  {
   "cell_type": "markdown",
   "metadata": {},
   "source": [
    "#### Decision Tree Classififier with max_depth = 20"
   ]
  },
  {
   "cell_type": "code",
   "execution_count": 24,
   "metadata": {},
   "outputs": [
    {
     "data": {
      "text/plain": [
       "0.9426349052017501"
      ]
     },
     "execution_count": 24,
     "metadata": {},
     "output_type": "execute_result"
    }
   ],
   "source": [
    "dt = DecisionTreeClassifier(max_depth=20, random_state=0).fit(X_SMOTE, y_SMOTE)\n",
    "accuracy_score(y_test, dt.predict(X_test))"
   ]
  },
  {
   "cell_type": "markdown",
   "metadata": {},
   "source": [
    "#### Search optimal parameters for f1 performance"
   ]
  },
  {
   "cell_type": "code",
   "execution_count": 25,
   "metadata": {},
   "outputs": [],
   "source": [
    "dt_params = {'max_depth': np.arange(3,20),\n",
    "             'criterion' : ['gini','entropy'],\n",
    "             'max_leaf_nodes': [5,10,20,100],\n",
    "             'min_samples_split': [2, 5, 10, 20]}\n",
    "grid_dt = GridSearchCV(DecisionTreeClassifier(), param_grid = dt_params, cv = 5, scoring= 'f1')\n",
    "\n",
    "grid_dt.fit(X_SMOTE, y_SMOTE)\n",
    "best_params_dt = grid_dt.best_params_\n",
    "dt_f1 = DecisionTreeClassifier(random_state = 0)\n",
    "dt_f1.set_params(**best_params_dt)\n",
    "dt_f1.fit(X_SMOTE, y_SMOTE)\n",
    "dt_predicted = dt_f1.predict(X_test)"
   ]
  },
  {
   "cell_type": "markdown",
   "metadata": {},
   "source": [
    "#### Performance for Decision Tree Classifier"
   ]
  },
  {
   "cell_type": "code",
   "execution_count": 26,
   "metadata": {},
   "outputs": [
    {
     "name": "stdout",
     "output_type": "stream",
     "text": [
      "{'criterion': 'entropy', 'max_depth': 12, 'max_leaf_nodes': 100, 'min_samples_split': 2}\n",
      "Decision tree fitted on balanced sample - Accuracy: 0.87\n",
      "Decision tree fitted on balanced sample - Precision: 0.59\n",
      "Decision tree fitted on balanced sample - Recall: 0.64\n",
      "Decision tree fitted on balanced sample - F1: 0.62\n"
     ]
    }
   ],
   "source": [
    "print(best_params_dt)\n",
    "print('Decision tree fitted on balanced sample - Accuracy: {:.2f}'.format(accuracy_score(y_test, dt_predicted)))\n",
    "print('Decision tree fitted on balanced sample - Precision: {:.2f}'.format(precision_score(y_test, dt_predicted)))\n",
    "print('Decision tree fitted on balanced sample - Recall: {:.2f}'.format(recall_score(y_test, dt_predicted)))\n",
    "print('Decision tree fitted on balanced sample - F1: {:.2f}'.format(f1_score(y_test, dt_predicted)))"
   ]
  },
  {
   "cell_type": "markdown",
   "metadata": {},
   "source": [
    "We can observe that the recall is quite low and this model is not satisfying at this stage"
   ]
  },
  {
   "cell_type": "markdown",
   "metadata": {},
   "source": [
    "### Random Forest Classifier"
   ]
  },
  {
   "cell_type": "code",
   "execution_count": null,
   "metadata": {},
   "outputs": [],
   "source": [
    "#### Search optimal parameters for f1 performance"
   ]
  },
  {
   "cell_type": "code",
   "execution_count": 27,
   "metadata": {},
   "outputs": [],
   "source": [
    "rdf_params = {'n_estimators' : [10,15,20],\n",
    "              'max_depth': np.arange(3,20),\n",
    "              'criterion' : ['gini','entropy'],\n",
    "              'max_features': [1,5,10,18]}\n",
    "grid_rdf = GridSearchCV(RandomForestClassifier(), param_grid = rdf_params, cv = 5, scoring= 'f1')\n"
   ]
  },
  {
   "cell_type": "code",
   "execution_count": 29,
   "metadata": {},
   "outputs": [
    {
     "data": {
      "text/plain": [
       "GridSearchCV(cv=5, error_score='raise-deprecating',\n",
       "       estimator=RandomForestClassifier(bootstrap=True, class_weight=None, criterion='gini',\n",
       "            max_depth=None, max_features='auto', max_leaf_nodes=None,\n",
       "            min_impurity_decrease=0.0, min_impurity_split=None,\n",
       "            min_samples_leaf=1, min_samples_split=2,\n",
       "            min_weight_fraction_leaf=0.0, n_estimators='warn', n_jobs=None,\n",
       "            oob_score=False, random_state=None, verbose=0,\n",
       "            warm_start=False),\n",
       "       fit_params=None, iid='warn', n_jobs=None,\n",
       "       param_grid={'n_estimators': [10, 15, 20], 'max_depth': array([ 3,  4,  5,  6,  7,  8,  9, 10, 11, 12, 13, 14, 15, 16, 17, 18, 19]), 'criterion': ['gini', 'entropy'], 'max_features': [1, 5, 10, 18]},\n",
       "       pre_dispatch='2*n_jobs', refit=True, return_train_score='warn',\n",
       "       scoring='f1', verbose=0)"
      ]
     },
     "execution_count": 29,
     "metadata": {},
     "output_type": "execute_result"
    }
   ],
   "source": [
    "grid_rdf.fit(X_SMOTE, y_SMOTE)"
   ]
  },
  {
   "cell_type": "code",
   "execution_count": 34,
   "metadata": {},
   "outputs": [],
   "source": [
    "best_params_rdf = grid_rdf.best_params_\n",
    "rdf_f1 = RandomForestClassifier(random_state = 0)\n",
    "rdf_f1.set_params(**best_params_rdf)\n",
    "rdf_f1.fit(X_SMOTE, y_SMOTE)\n",
    "rdf_predicted = rdf_f1.predict(X_test)"
   ]
  },
  {
   "cell_type": "markdown",
   "metadata": {},
   "source": [
    "#### Performance for Random Forest Classifier"
   ]
  },
  {
   "cell_type": "code",
   "execution_count": 35,
   "metadata": {},
   "outputs": [
    {
     "name": "stdout",
     "output_type": "stream",
     "text": [
      "{'criterion': 'entropy', 'max_depth': 17, 'max_features': 18, 'n_estimators': 15}\n",
      "Random Forest fitted on balanced sample - Accuracy: 0.98\n",
      "Random Forest fitted on balanced sample - Precision: 0.95\n",
      "Random Forest fitted on balanced sample - Recall: 0.90\n",
      "Random Forest fitted on balanced sample - F1: 0.93\n"
     ]
    }
   ],
   "source": [
    "print(best_params_rdf)\n",
    "print('Random Forest fitted on balanced sample - Accuracy: {:.2f}'.format(accuracy_score(y_test, rdf_predicted)))\n",
    "print('Random Forest fitted on balanced sample - Precision: {:.2f}'.format(precision_score(y_test, rdf_predicted)))\n",
    "print('Random Forest fitted on balanced sample - Recall: {:.2f}'.format(recall_score(y_test, rdf_predicted)))\n",
    "print('Random Forest fitted on balanced sample - F1: {:.2f}'.format(f1_score(y_test, rdf_predicted)))"
   ]
  },
  {
   "cell_type": "markdown",
   "metadata": {},
   "source": [
    "We can observe much better performance, especially on the recall, as compared to Decision Tree Classification.\n",
    "Let's see if the Gradient Boosting Decision Tree will give us even better result"
   ]
  },
  {
   "cell_type": "markdown",
   "metadata": {},
   "source": [
    "### Gradient Boosting Decision Tree Classifier "
   ]
  },
  {
   "cell_type": "markdown",
   "metadata": {},
   "source": [
    "For the Gradient Boosting Tree Classifier, we will use the same parameters as for the Random Forest model, and we will set the learning_rate to 0.1"
   ]
  },
  {
   "cell_type": "code",
   "execution_count": 40,
   "metadata": {},
   "outputs": [],
   "source": [
    "gbdt_f1 = GradientBoostingClassifier(random_state = 0, n_estimators = 15, max_depth = 17,\n",
    "                                     max_features = 18, learning_rate = 0.1)\n",
    "\n",
    "gbdt_f1.fit(X_SMOTE,y_SMOTE)\n",
    "gbdt_predicted = gbdt_f1.predict(X_test)"
   ]
  },
  {
   "cell_type": "markdown",
   "metadata": {},
   "source": [
    "#### Performance for Gradient Boosting Tree Classifier"
   ]
  },
  {
   "cell_type": "code",
   "execution_count": 41,
   "metadata": {},
   "outputs": [
    {
     "name": "stdout",
     "output_type": "stream",
     "text": [
      "Gradient Boosting Tree fitted on balanced sample - Accuracy: 0.97\n",
      "Gradient Boosting Tree fitted on balanced sample - Precision: 0.91\n",
      "Gradient Boosting Tree fitted  on balanced sample - Recall: 0.92\n",
      "Gradient Boosting Tree fitted  on balanced sample - F1: 0.91\n"
     ]
    }
   ],
   "source": [
    "print('Gradient Boosting Tree fitted on balanced sample - Accuracy: {:.2f}'.format(accuracy_score(y_test, gbdt_predicted)))\n",
    "print('Gradient Boosting Tree fitted on balanced sample - Precision: {:.2f}'.format(precision_score(y_test, gbdt_predicted)))\n",
    "print('Gradient Boosting Tree fitted  on balanced sample - Recall: {:.2f}'.format(recall_score(y_test, gbdt_predicted)))\n",
    "print('Gradient Boosting Tree fitted  on balanced sample - F1: {:.2f}'.format(f1_score(y_test, gbdt_predicted)))"
   ]
  },
  {
   "cell_type": "markdown",
   "metadata": {},
   "source": [
    "So far, this model provides the best balance between precision and recall"
   ]
  },
  {
   "cell_type": "markdown",
   "metadata": {},
   "source": [
    "## Step 4:  Model explanation and evaluation\n",
    "\n",
    "Given the performance for the 3 models, the Gradient Boosting Decision Tree Classifier provides the best balance between recall and precision with f1 score of 0.91.\n",
    "\n",
    "To improve the model, we can explore some areas such as: \n",
    "    1. Explore the features more (with a correlation heatmap for instance) and study the impact of removing \n",
    "        certain features to the model performance\n",
    "    2. Explore the data more to address outliers \n",
    "    3. Tune the parameters with GridSearchCV and K-fold cross-validation with different parameters \n",
    "    4. Explore other models\n",
    "    5. Obtain more data  "
   ]
  }
 ],
 "metadata": {
  "kernelspec": {
   "display_name": "Python 3",
   "language": "python",
   "name": "python3"
  },
  "language_info": {
   "codemirror_mode": {
    "name": "ipython",
    "version": 3
   },
   "file_extension": ".py",
   "mimetype": "text/x-python",
   "name": "python",
   "nbconvert_exporter": "python",
   "pygments_lexer": "ipython3",
   "version": "3.7.3"
  }
 },
 "nbformat": 4,
 "nbformat_minor": 2
}
